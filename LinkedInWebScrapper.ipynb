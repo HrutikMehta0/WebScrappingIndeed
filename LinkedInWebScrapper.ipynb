{
 "cells": [
  {
   "cell_type": "code",
   "execution_count": 1,
   "metadata": {
    "collapsed": true,
    "pycharm": {
     "name": "#%%\n"
    }
   },
   "outputs": [
    {
     "name": "stderr",
     "output_type": "stream",
     "text": [
      "[nltk_data] Downloading package punkt to\n",
      "[nltk_data]     C:\\Users\\Hrutik\\AppData\\Roaming\\nltk_data...\n",
      "[nltk_data]   Package punkt is already up-to-date!\n",
      "[nltk_data] Downloading package stopwords to\n",
      "[nltk_data]     C:\\Users\\Hrutik\\AppData\\Roaming\\nltk_data...\n",
      "[nltk_data]   Package stopwords is already up-to-date!\n"
     ]
    },
    {
     "data": {
      "text/plain": "True"
     },
     "execution_count": 1,
     "metadata": {},
     "output_type": "execute_result"
    }
   ],
   "source": [
    "import requests\n",
    "from bs4 import BeautifulSoup\n",
    "import pandas as pd\n",
    "import nltk # imports the natural language toolkit\n",
    "nltk.download('punkt')\n",
    "nltk.download('stopwords')\n"
   ]
  },
  {
   "cell_type": "code",
   "execution_count": 16,
   "outputs": [],
   "source": [
    "def scrapper(url):\n",
    "    resp = requests.get(url)\n",
    "    print(resp)\n",
    "    soup = BeautifulSoup(resp.content, 'html.parser')\n",
    "    jobs = soup.find_all('div',\n",
    "                         class_='base-card relative w-full hover:no-underline focus:no-underline base-card--link base-search-card base-search-card--link job-search-card')\n",
    "    jobs_list = []\n",
    "    for job in jobs:\n",
    "        job_link = job.find('a', class_='base-card__full-link')['href']\n",
    "        resp = requests.get(job_link)\n",
    "        soup = BeautifulSoup(resp.content, 'html.parser')\n",
    "        try:\n",
    "            data = {\n",
    "                \"job_title\": soup.find('h1', class_='topcard__title').get_text().strip(),\n",
    "                \"company\": soup.find('a', class_='topcard__org-name-link topcard__flavor--black-link').get_text().strip(),\n",
    "                \"location\": soup.find('span', class_='topcard__flavor topcard__flavor--bullet').get_text().strip(),\n",
    "                \"job_desc\": soup.find('div', class_='description__text description__text--rich').get_text().strip(),\n",
    "                \"job_link\": job_link\n",
    "            }\n",
    "        except AttributeError:\n",
    "            continue\n",
    "        jobs_list.append(data)\n",
    "    dataframe = pd.DataFrame(jobs_list)\n",
    "    return dataframe"
   ],
   "metadata": {
    "collapsed": false,
    "pycharm": {
     "name": "#%%\n"
    }
   }
  },
  {
   "cell_type": "code",
   "execution_count": 17,
   "outputs": [
    {
     "name": "stdout",
     "output_type": "stream",
     "text": [
      "<Response [200]>\n"
     ]
    },
    {
     "data": {
      "text/plain": "                                           job_title     company  \\\n0  2023 Summer Student Opportunities Technology &...         RBC   \n1  2023 Summer Student Opportunities Technology &...         RBC   \n2         16 Month Software Engineer Paid Internship  eLeapPower   \n3       Software Developer Coop/Intern - Summer 2023         UKG   \n4  2023 Summer Student Opportunities Borealis AI ...         RBC   \n5  2023 Summer Student Opportunities Technology &...         RBC   \n6  Deloitte Technology - Deloitte Global - Summer...    Deloitte   \n7  2023 Summer Student Opportunities Technology &...         RBC   \n8  2023 Summer Student Opportunities Technology &...         RBC   \n\n                   location  \\\n0  Toronto, Ontario, Canada   \n1  Toronto, Ontario, Canada   \n2  Toronto, Ontario, Canada   \n3  Toronto, Ontario, Canada   \n4  Toronto, Ontario, Canada   \n5  Toronto, Ontario, Canada   \n6  Toronto, Ontario, Canada   \n7  Toronto, Ontario, Canada   \n8  Toronto, Ontario, Canada   \n\n                                            job_desc  \\\n0  Come Work with Us!At RBC, our culture is deepl...   \n1  Come Work with Us!At RBC, our culture is deepl...   \n2  Who is eLeapPower?eLeapPower is an award-winni...   \n3  DescriptionThe TechStar Internship Program is ...   \n4  Come Work with Us!At RBC, our culture is deepl...   \n5  Come Work with Us!At RBC, our culture is deepl...   \n6  Job Type: Co-op/InternReference code: 122598Pr...   \n7  Come Work with Us!At RBC, our culture is deepl...   \n8  Come Work with Us!At RBC, our culture is deepl...   \n\n                                            job_link  \n0  https://ca.linkedin.com/jobs/view/2023-summer-...  \n1  https://ca.linkedin.com/jobs/view/2023-summer-...  \n2  https://ca.linkedin.com/jobs/view/16-month-sof...  \n3  https://ca.linkedin.com/jobs/view/software-dev...  \n4  https://ca.linkedin.com/jobs/view/2023-summer-...  \n5  https://ca.linkedin.com/jobs/view/2023-summer-...  \n6  https://ca.linkedin.com/jobs/view/deloitte-tec...  \n7  https://ca.linkedin.com/jobs/view/2023-summer-...  \n8  https://ca.linkedin.com/jobs/view/2023-summer-...  ",
      "text/html": "<div>\n<style scoped>\n    .dataframe tbody tr th:only-of-type {\n        vertical-align: middle;\n    }\n\n    .dataframe tbody tr th {\n        vertical-align: top;\n    }\n\n    .dataframe thead th {\n        text-align: right;\n    }\n</style>\n<table border=\"1\" class=\"dataframe\">\n  <thead>\n    <tr style=\"text-align: right;\">\n      <th></th>\n      <th>job_title</th>\n      <th>company</th>\n      <th>location</th>\n      <th>job_desc</th>\n      <th>job_link</th>\n    </tr>\n  </thead>\n  <tbody>\n    <tr>\n      <th>0</th>\n      <td>2023 Summer Student Opportunities Technology &amp;...</td>\n      <td>RBC</td>\n      <td>Toronto, Ontario, Canada</td>\n      <td>Come Work with Us!At RBC, our culture is deepl...</td>\n      <td>https://ca.linkedin.com/jobs/view/2023-summer-...</td>\n    </tr>\n    <tr>\n      <th>1</th>\n      <td>2023 Summer Student Opportunities Technology &amp;...</td>\n      <td>RBC</td>\n      <td>Toronto, Ontario, Canada</td>\n      <td>Come Work with Us!At RBC, our culture is deepl...</td>\n      <td>https://ca.linkedin.com/jobs/view/2023-summer-...</td>\n    </tr>\n    <tr>\n      <th>2</th>\n      <td>16 Month Software Engineer Paid Internship</td>\n      <td>eLeapPower</td>\n      <td>Toronto, Ontario, Canada</td>\n      <td>Who is eLeapPower?eLeapPower is an award-winni...</td>\n      <td>https://ca.linkedin.com/jobs/view/16-month-sof...</td>\n    </tr>\n    <tr>\n      <th>3</th>\n      <td>Software Developer Coop/Intern - Summer 2023</td>\n      <td>UKG</td>\n      <td>Toronto, Ontario, Canada</td>\n      <td>DescriptionThe TechStar Internship Program is ...</td>\n      <td>https://ca.linkedin.com/jobs/view/software-dev...</td>\n    </tr>\n    <tr>\n      <th>4</th>\n      <td>2023 Summer Student Opportunities Borealis AI ...</td>\n      <td>RBC</td>\n      <td>Toronto, Ontario, Canada</td>\n      <td>Come Work with Us!At RBC, our culture is deepl...</td>\n      <td>https://ca.linkedin.com/jobs/view/2023-summer-...</td>\n    </tr>\n    <tr>\n      <th>5</th>\n      <td>2023 Summer Student Opportunities Technology &amp;...</td>\n      <td>RBC</td>\n      <td>Toronto, Ontario, Canada</td>\n      <td>Come Work with Us!At RBC, our culture is deepl...</td>\n      <td>https://ca.linkedin.com/jobs/view/2023-summer-...</td>\n    </tr>\n    <tr>\n      <th>6</th>\n      <td>Deloitte Technology - Deloitte Global - Summer...</td>\n      <td>Deloitte</td>\n      <td>Toronto, Ontario, Canada</td>\n      <td>Job Type: Co-op/InternReference code: 122598Pr...</td>\n      <td>https://ca.linkedin.com/jobs/view/deloitte-tec...</td>\n    </tr>\n    <tr>\n      <th>7</th>\n      <td>2023 Summer Student Opportunities Technology &amp;...</td>\n      <td>RBC</td>\n      <td>Toronto, Ontario, Canada</td>\n      <td>Come Work with Us!At RBC, our culture is deepl...</td>\n      <td>https://ca.linkedin.com/jobs/view/2023-summer-...</td>\n    </tr>\n    <tr>\n      <th>8</th>\n      <td>2023 Summer Student Opportunities Technology &amp;...</td>\n      <td>RBC</td>\n      <td>Toronto, Ontario, Canada</td>\n      <td>Come Work with Us!At RBC, our culture is deepl...</td>\n      <td>https://ca.linkedin.com/jobs/view/2023-summer-...</td>\n    </tr>\n  </tbody>\n</table>\n</div>"
     },
     "execution_count": 17,
     "metadata": {},
     "output_type": "execute_result"
    }
   ],
   "source": [
    "df = scrapper(\n",
    "    'https://www.linkedin.com/jobs/search?keywords=Data%20Scientist%20coop&location=Toronto%2C%20Ontario%2C%20Canada&geoId=100025096&trk=public_jobs_jobs-search-bar_search-submit&position=1&pageNum=0')\n",
    "df"
   ],
   "metadata": {
    "collapsed": false,
    "pycharm": {
     "name": "#%%\n"
    }
   }
  },
  {
   "cell_type": "code",
   "execution_count": null,
   "outputs": [],
   "source": [
    "job_desc = df['job_desc'].tolist()\n",
    "job_desc"
   ],
   "metadata": {
    "collapsed": false,
    "pycharm": {
     "name": "#%%\n"
    }
   }
  },
  {
   "cell_type": "code",
   "execution_count": null,
   "outputs": [],
   "source": [
    "import matplotlib.pyplot as plt\n",
    "from wordcloud import WordCloud\n",
    "word_cloud_text = ''.join(job_desc)\n",
    "wordcloud = WordCloud(max_font_size=100, max_words=100, background_color=\"white\",\\\n",
    "                          scale = 10,width=1000, height=800).generate(word_cloud_text)\n",
    "plt.figure(figsize=(20,10))\n",
    "plt.imshow(wordcloud, interpolation=\"bilinear\")\n",
    "plt.axis(\"off\")\n",
    "plt.show()"
   ],
   "metadata": {
    "collapsed": false,
    "pycharm": {
     "name": "#%%\n"
    }
   }
  }
 ],
 "metadata": {
  "kernelspec": {
   "display_name": "Python 3",
   "language": "python",
   "name": "python3"
  },
  "language_info": {
   "codemirror_mode": {
    "name": "ipython",
    "version": 2
   },
   "file_extension": ".py",
   "mimetype": "text/x-python",
   "name": "python",
   "nbconvert_exporter": "python",
   "pygments_lexer": "ipython2",
   "version": "2.7.6"
  }
 },
 "nbformat": 4,
 "nbformat_minor": 0
}